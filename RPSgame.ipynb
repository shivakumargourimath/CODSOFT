{ 
 "cells": [
  {
   "cell_type": "code",
   "execution_count": 9,
   "id": "2e36f674-5916-45e5-98e5-64a36cb1ac3e",
   "metadata": {},
   "outputs": [
    {
     "name": "stdin",
     "output_type": "stream",
     "text": [
      "Enter your choice 'rock'or'paper'or'scissor': rock\n"
     ]
    },
    {
     "name": "stdout",
     "output_type": "stream",
     "text": [
      "--> You win! :)\n"
     ]
    },
    {
     "name": "stdin",
     "output_type": "stream",
     "text": [
      "Enter your choice 'rock'or'paper'or'scissor': paper\n"
     ]
    },
    {
     "name": "stdout",
     "output_type": "stream",
     "text": [
      "--> You loose! :(\n"
     ]
    },
    {
     "name": "stdin",
     "output_type": "stream",
     "text": [
      "Enter your choice 'rock'or'paper'or'scissor': scissor\n"
     ]
    },
    {
     "name": "stdout",
     "output_type": "stream",
     "text": [
      "--> You win! :)\n"
     ]
    },
    {
     "name": "stdin",
     "output_type": "stream",
     "text": [
      "Enter your choice 'rock'or'paper'or'scissor': rock\n"
     ]
    },
    {
     "name": "stdout",
     "output_type": "stream",
     "text": [
      "It's tie\n"
     ]
    },
    {
     "name": "stdin",
     "output_type": "stream",
     "text": [
      "Enter your choice 'rock'or'paper'or'scissor': paper\n"
     ]
    },
    {
     "name": "stdout",
     "output_type": "stream",
     "text": [
      "--> You win! :)\n",
      "\n",
      "You lost 1 times\n",
      "You won 3 times\n",
      "You draw  1 times\n",
      "\n",
      "You won the game! :)\n"
     ]
    }
   ],
   "source": [
    "import random\n",
    "options=['rock','paper','scissor']\n",
    "win=0\n",
    "loss=0\n",
    "for i in range(0,5):\n",
    "    computer_choice=random.choice(options)\n",
    "    user_choice=input(\"Enter your choice 'rock'or'paper'or'scissor':\")\n",
    "    \n",
    "    if (user_choice==computer_choice):\n",
    "        print(\"It's tie\")\n",
    "    elif(user_choice == \"rock\" and computer_choice==\"paper\" or \n",
    "         user_choice == \"paper\" and computer_choice==\"scissor\" or \n",
    "         user_choice == \"scissor\" and computer_choice==\"rock\"):\n",
    "        print(\"--> You loose! :(\")\n",
    "        loss+=1\n",
    "    elif(user_choice == \"rock\" and computer_choice==\"scissor\" or\n",
    "        user_choice == \"paper\" and computer_choice==\"rock\" or\n",
    "        user_choice == \"scissor\" and computer_choice==\"paper\"):\n",
    "        print(\"--> You win! :)\")\n",
    "        win+=1\n",
    "        \n",
    "print(\"\\nYou lost\",loss,\"times\")\n",
    "print(\"You won\",win,\"times\")\n",
    "print(\"You draw \",(5-(loss+win)),\"times\")\n",
    "\n",
    "if(win>loss):\n",
    "    print(\"\\nYou won the game! :)\")\n",
    "elif(win<loss):\n",
    "    print(\"\\nYou lost the game! :(\")\n",
    "else:\n",
    "    print(\"\\nIt's a draw!\")"
   ]
  },
  {
   "cell_type": "code",
   "execution_count": null,
   "id": "133585ed-15dd-4889-8ec5-9353821bee29",
   "metadata": {},
   "outputs": [],
   "source": []
  }
 ],
 "metadata": {
  "kernelspec": {
   "display_name": "Python 3 (ipykernel)",
   "language": "python",
   "name": "python3"
  },
  "language_info": {
   "codemirror_mode": {
    "name": "ipython",
    "version": 3
   },
   "file_extension": ".py",
   "mimetype": "text/x-python",
   "name": "python",
   "nbconvert_exporter": "python",
   "pygments_lexer": "ipython3",
   "version": "3.12.4"
  }
 },
 "nbformat": 4,
 "nbformat_minor": 5
}
