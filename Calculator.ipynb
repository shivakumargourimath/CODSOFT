{ 
 "cells": [
  {
   "cell_type": "code",
   "execution_count": 1,
   "id": "aa3a696a-35b8-452f-b8b2-b1f3b9216ae2",
   "metadata": {},
   "outputs": [
    {
     "name": "stdout",
     "output_type": "stream",
     "text": [
      "Operators that perform\n",
      "--------------------------------\n",
      "| '+' --> for Addition         |\n",
      "| '-' --> for Substraction     |\n",
      "| '*' --> for Multiplication   |\n",
      "| '/' --> for Division         |\n",
      "| '%' --> for modulus          |\n",
      "| 'exit' --> to Exit           |\n",
      "--------------------------------\n"
     ]
    },
    {
     "name": "stdin",
     "output_type": "stream",
     "text": [
      "Enter the operator to perform: +\n",
      "Enter first number: 2\n",
      "Enter second number: 6\n"
     ]
    },
    {
     "name": "stdout",
     "output_type": "stream",
     "text": [
      "\n",
      "Result : 2.0 + 6.0 =  8.0 \n",
      "\n"
     ]
    },
    {
     "name": "stdin",
     "output_type": "stream",
     "text": [
      "Enter the operator to perform: -\n",
      "Enter first number: 6\n",
      "Enter second number: 2\n"
     ]
    },
    {
     "name": "stdout",
     "output_type": "stream",
     "text": [
      "\n",
      "Result : 6.0 - 2.0 =  4.0 \n",
      "\n"
     ]
    },
    {
     "name": "stdin",
     "output_type": "stream",
     "text": [
      "Enter the operator to perform: f\n"
     ]
    },
    {
     "name": "stdout",
     "output_type": "stream",
     "text": [
      "Invalid Input\n",
      "Try Once again\n"
     ]
    },
    {
     "name": "stdin",
     "output_type": "stream",
     "text": [
      "Enter the operator to perform: exit\n"
     ]
    },
    {
     "name": "stdout",
     "output_type": "stream",
     "text": [
      "Program terminated (:\n"
     ]
    }
   ],
   "source": [
    "def menu():\n",
    "    print('''Operators that perform\n",
    "--------------------------------\n",
    "| '+' --> for Addition         |\n",
    "| '-' --> for Substraction     |\n",
    "| '*' --> for Multiplication   |\n",
    "| '/' --> for Division         |\n",
    "| '%' --> for modulus          |\n",
    "| 'exit' --> to Exit           |\n",
    "--------------------------------''')\n",
    "def calculator(char,a,b):\n",
    "    if char=='+':\n",
    "        print(f\"\\nResult : {a} + {b} = \",a+b,\"\\n\")\n",
    "    elif char=='-':\n",
    "        print(f\"\\nResult : {a} - {b} = \",a-b,'\\n')\n",
    "    elif char=='*':\n",
    "        print(f\"\\nResult : {a} * {b} = \",a*b,\"\\n\")\n",
    "    elif char=='/':\n",
    "        if b!=0:\n",
    "            print(f\"\\nResult : {a} / {b} = \",a/b,\"\\n\")\n",
    "        else:\n",
    "            print(\"\\nERROR : Denominator should not be zero\\n\")\n",
    "    elif char=='%':\n",
    "        print(f\"\\nResult : {a} % {b} = \",a%b,\"\\n\")\n",
    "menu()\n",
    "while True:\n",
    "    char=input(\"Enter the operator to perform:\")\n",
    "    if char in ['+','-','*','/','%']:\n",
    "        a=float(input(\"Enter first number:\"))\n",
    "        b=float(input(\"Enter second number:\"))\n",
    "        calculator(char,a,b)\n",
    "    elif char.lower()=='exit':\n",
    "        print(\"Program terminated (:\")\n",
    "        break\n",
    "    else:\n",
    "        print('''Invalid Input\n",
    "Try Once again''')\n",
    "        "
   ]
  },
  {
   "cell_type": "code",
   "execution_count": null,
   "id": "8afe4733-01ec-42d9-a6cd-d558cc99db96",
   "metadata": {},
   "outputs": [],
   "source": []
  }
 ],
 "metadata": {
  "kernelspec": {
   "display_name": "Python 3 (ipykernel)",
   "language": "python",
   "name": "python3"
  },
  "language_info": {
   "codemirror_mode": {
    "name": "ipython",
    "version": 3
   },
   "file_extension": ".py",
   "mimetype": "text/x-python",
   "name": "python",
   "nbconvert_exporter": "python",
   "pygments_lexer": "ipython3",
   "version": "3.12.4"
  }
 },
 "nbformat": 4,
 "nbformat_minor": 5
}
