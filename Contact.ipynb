{ 
 "cells": [
  {
   "cell_type": "code",
   "execution_count": 13,
   "id": "ec328c84-4c4f-4e77-8535-77fef870c34b",
   "metadata": {},
   "outputs": [
    {
     "name": "stdout",
     "output_type": "stream",
     "text": [
      "                Menu\n",
      "-------------------------------------------\n",
      "| 1 --> Add contact to contact list.      |\n",
      "| 2 --> Update contact in contact list.   |\n",
      "| 3 --> Search contact from contact list. |\n",
      "| 4 --> View contact from contact list.   |\n",
      "| 5 --> delete contact from contact list. |\n",
      "| 6 --> Exit from process.                |\n",
      "-------------------------------------------\n"
     ]
    },
    {
     "name": "stdin",
     "output_type": "stream",
     "text": [
      "\n",
      "Enter your choice from menu to perform task 6\n"
     ]
    },
    {
     "name": "stdout",
     "output_type": "stream",
     "text": [
      "Program terminated\n"
     ]
    }
   ],
   "source": [
    "contact_list={}\n",
    "def add_contact(name,Ph_number):\n",
    "    if name in contact_list:\n",
    "        print(\"Name already exist\")\n",
    "    else:\n",
    "        contact_list[name]=Ph_number\n",
    "def view_contact():\n",
    "    if not contact_list:\n",
    "        print(\"Contact list is empty\")\n",
    "    else:\n",
    "        for contact,ph_number in contact_list.items():\n",
    "            print(f\"{contact} : {ph_number}\")\n",
    "def search_contact(name):\n",
    "    if name in contact_list:\n",
    "        print(f\"{name} : {contact_list[name]}\")\n",
    "    else:\n",
    "        print(\"Contact not found\")\n",
    "def update_contact(name,new_ph_number):\n",
    "    if name in contact_list:\n",
    "        contact_list[name]=new_ph_number\n",
    "        print(\"contact updaated succesfully\")\n",
    "    else:\n",
    "        print(\"Contact not found\")\n",
    "def delete_contact(name):\n",
    "    if name in contact_list:\n",
    "        del contact_list[name]\n",
    "        print(\"contact deleted succesfully\")\n",
    "    else:\n",
    "        print(\"Contact not found\")\n",
    "\n",
    "print('''                Menu\n",
    "-------------------------------------------\n",
    "| 1 --> Add contact to contact list.      |\n",
    "| 2 --> Update contact in contact list.   |\n",
    "| 3 --> Search contact from contact list. |\n",
    "| 4 --> View contact from contact list.   |\n",
    "| 5 --> delete contact from contact list. |\n",
    "| 6 --> Exit from process.                |\n",
    "-------------------------------------------''')\n",
    "while True:\n",
    "    choice=input(\"\\nEnter your choice from menu to perform task:\")\n",
    "    if choice in ['1','2','3','4','5']:\n",
    "        if choice=='1':\n",
    "            name=input(\"Enter the name of contact:\")\n",
    "            Ph_number=input(\"Enter the phone number:\")\n",
    "            add_contact(name,Ph_number)\n",
    "        elif choice=='2':\n",
    "            name=input(\"Enter the name of contact:\")\n",
    "            Ph_number=input(\"Enter the phone number:\")\n",
    "            update_contact(name,Ph_number)\n",
    "        elif choice=='3':\n",
    "            name=input(\"Enter the name of contact:\")\n",
    "            search_contact(name)\n",
    "        elif choice=='4':\n",
    "            view_contact()\n",
    "        elif choice=='5':\n",
    "            name=input(\"Enter the name of contact:\")\n",
    "            delete_contact(name)\n",
    "    elif choice=='6':\n",
    "        print(\"Program terminated\")\n",
    "        break\n",
    "    else:\n",
    "        print(\"Invalid input,Try once again\")\n"
   ]
  },
  {
   "cell_type": "code",
   "execution_count": null,
   "id": "8b76ffdf-e41d-4a3f-99f7-6698f61145b3",
   "metadata": {},
   "outputs": [],
   "source": []
  }
 ],
 "metadata": {
  "kernelspec": {
   "display_name": "Python 3 (ipykernel)",
   "language": "python",
   "name": "python3"
  },
  "language_info": {
   "codemirror_mode": {
    "name": "ipython",
    "version": 3
   },
   "file_extension": ".py",
   "mimetype": "text/x-python",
   "name": "python",
   "nbconvert_exporter": "python",
   "pygments_lexer": "ipython3",
   "version": "3.12.4"
  }
 },
 "nbformat": 4,
 "nbformat_minor": 5
}
